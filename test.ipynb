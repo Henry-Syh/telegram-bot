{
 "cells": [
  {
   "cell_type": "code",
   "execution_count": null,
   "metadata": {},
   "outputs": [],
   "source": [
    "import telebot\n",
    "bot = telebot.TeleBot(\"6502142891:AAEf1776lDIZhlGcM45YkroPJqSINwSP6qA\")\n",
    "\n",
    "# Handles all text messages that contains the commands '/start' or '/help'.\n",
    "@bot.message_handler(commands=['start', 'help'])\n",
    "def handle_start_help(message):\n",
    "\tbot.reply_to(message, \"Howdy, how are you doing?\")\n",
    "\tpass\n",
    "\n",
    "# Handles all sent documents and audio files\n",
    "@bot.message_handler(content_types=['document', 'audio'])\n",
    "def handle_docs_audio(message):\n",
    "\tbot.reply_to(message, \"Howdy, document and audio\")\n",
    "\tpass\n",
    "\n",
    "# Handles all text messages that match the regular expression\n",
    "@bot.message_handler(regexp=\"SOME_REGEXP\")\n",
    "def handle_message(message):\n",
    "\tbot.reply_to(message, \"Howdy, 2\")\n",
    "\t\n",
    "\tpass\n",
    "\n",
    "# Handles all messages for which the lambda returns True\n",
    "@bot.message_handler(func=lambda message: message.document.mime_type == 'text/plain', content_types=['document'])\n",
    "def handle_text_doc(message):\n",
    "\tbot.reply_to(message, \"Howdy, 3\")\n",
    "\tpass\n",
    "\n",
    "# Which could also be defined as:\n",
    "def test_message(message):\n",
    "\tbot.reply_to(message, \"Howdy, 4\")\n",
    "\t\n",
    "\treturn message.document.mime_type == 'text/plain'\n",
    "\n",
    "@bot.message_handler(func=test_message, content_types=['document'])\n",
    "def handle_text_doc(message):\n",
    "\tbot.reply_to(message, \"Howdy, 5\")\n",
    "\t\n",
    "\tpass\n",
    "\n",
    "# Handlers can be stacked to create a function which will be called if either message_handler is eligible\n",
    "# This handler will be called if the message starts with '/hello' OR is some emoji\n",
    "@bot.message_handler(commands=['hello'])\n",
    "@bot.message_handler(func=lambda msg: msg.text.encode(\"utf-8\") == SOME_FANCY_EMOJI)\n",
    "def send_something(message):\n",
    "    bot.reply_to(message, \"Howdy, 1232\")\n",
    "    pass\n",
    "\n",
    "bot.delete_webhook()\n",
    "bot.infinity_polling()"
   ]
  }
 ],
 "metadata": {
  "kernelspec": {
   "display_name": ".venv",
   "language": "python",
   "name": "python3"
  },
  "language_info": {
   "codemirror_mode": {
    "name": "ipython",
    "version": 3
   },
   "file_extension": ".py",
   "mimetype": "text/x-python",
   "name": "python",
   "nbconvert_exporter": "python",
   "pygments_lexer": "ipython3",
   "version": "3.10.11"
  }
 },
 "nbformat": 4,
 "nbformat_minor": 2
}
